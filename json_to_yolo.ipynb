{
 "cells": [
  {
   "cell_type": "code",
   "execution_count": 1,
   "metadata": {},
   "outputs": [],
   "source": [
    "import json \n",
    "import os "
   ]
  },
  {
   "cell_type": "code",
   "execution_count": 2,
   "metadata": {},
   "outputs": [],
   "source": [
    "def convert_to_yolov8_format(bounding_box, image_width, image_height):\n",
    "    # Extract bounding box coordinates\n",
    "    top = bounding_box['top']\n",
    "    left = bounding_box['left']\n",
    "    height = bounding_box['height']\n",
    "    width = bounding_box['width']\n",
    "\n",
    "    # Calculate YOLOv8 coordinates\n",
    "    x_center = (left + width / 2) / image_width\n",
    "    y_center = (top + height / 2) / image_height\n",
    "    box_width = width / image_width\n",
    "    box_height = height / image_height\n",
    "\n",
    "    return f\"{x_center:.6f} {y_center:.6f} {box_width:.6f} {box_height:.6f}\""
   ]
  },
  {
   "cell_type": "code",
   "execution_count": 3,
   "metadata": {},
   "outputs": [],
   "source": [
    "\n",
    "labels_code = {'tray':4,'plate':0,'bowl':1,'drink':2}\n",
    "with open('jsons\\export-result.ndjson', 'r') as file:\n",
    "    for line in file:\n",
    "        data = json.loads(line)\n",
    "        file_name = data['data_row']['external_id']\n",
    "        labels_and_boxes=[]\n",
    "        for label_info in data['projects']['clptpzw7o04i2072m9aex23zg']['labels'][0]['annotations']['objects']:\n",
    "            label_name = label_info['name']\n",
    "            bounding_box = label_info['bounding_box']\n",
    "            labels_and_boxes.append([labels_code[label_name], bounding_box])\n",
    "        with open(os.path.join('reworked_data\\labels',os.path.splitext(file_name)[0]+'.txt'),'w') as yolo_format:\n",
    "            for label, box in labels_and_boxes:\n",
    "                if label!=4:\n",
    "                    yolo_format.write(f\"{label} {convert_to_yolov8_format(box,data['media_attributes']['width'],data['media_attributes']['height'])}\\n\")\n"
   ]
  },
  {
   "cell_type": "code",
   "execution_count": null,
   "metadata": {},
   "outputs": [],
   "source": []
  }
 ],
 "metadata": {
  "kernelspec": {
   "display_name": ".venv",
   "language": "python",
   "name": "python3"
  },
  "language_info": {
   "codemirror_mode": {
    "name": "ipython",
    "version": 3
   },
   "file_extension": ".py",
   "mimetype": "text/x-python",
   "name": "python",
   "nbconvert_exporter": "python",
   "pygments_lexer": "ipython3",
   "version": "3.11.0"
  }
 },
 "nbformat": 4,
 "nbformat_minor": 2
}
